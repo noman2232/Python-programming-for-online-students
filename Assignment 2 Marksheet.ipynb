{
 "cells": [
  {
   "cell_type": "code",
   "execution_count": 13,
   "metadata": {},
   "outputs": [
    {
     "name": "stdout",
     "output_type": "stream",
     "text": [
      "-------Transcrip---------\n",
      "Enter your Math marks out of 100? 45\n",
      "Enter your Urdu marks out of 100? 52\n",
      "Enter your English marks out of 100? 63\n",
      "Enter your Physics marks out of 100? 52\n",
      "Enter your Chemistry marks out of 100? 63\n",
      "Enter your Islamiat marks out of 100? 52\n",
      "Total marks obtained 327\n",
      "Percentage 54.50000000000001\n",
      "Congratulation! You have secured Grade C\n"
     ]
    }
   ],
   "source": [
    "print (\"-------Transcrip---------\");\n",
    "Math = int(input(\"Enter your Math marks out of 100? \")) \n",
    "\n",
    "Urdu = int(input(\"Enter your Urdu marks out of 100? \")) \n",
    "\n",
    "English = int(input(\"Enter your English marks out of 100? \")) \n",
    "\n",
    "Physics = int(input(\"Enter your Physics marks out of 100? \"))\n",
    "Chemistry = int(input(\"Enter your Chemistry marks out of 100? \"))\n",
    "Islamiat = int(input(\"Enter your Islamiat marks out of 100? \"))\n",
    "Total_Marks = Math+Urdu+English+Physics+Chemistry+Islamiat;\n",
    "Percentage = (Total_Marks/600*100)\n",
    "print (\"Total marks obtained \" + str(Total_Marks))\n",
    "print (\"Percentage \" + str(Percentage))\n",
    "if Percentage >= 80 and Percentage <= 100 :\n",
    "    print (\"Congratulation! You have secured Grade A One\")\n",
    "elif Percentage >= 70 and Percentage < 80 :\n",
    "    print (\"Congratulation! You have secured Grade A\")\n",
    "elif Percentage >= 60 and Percentage < 70 :\n",
    "    print (\"Congratulation! You have secured Grade B\")\n",
    "elif Percentage >= 50 and Percentage < 60 :\n",
    "    print (\"Congratulation! You have secured Grade C\")\n",
    "elif Percentage >= 40 and Percentage < 50 :\n",
    "    print (\"Your rsult is below from satisfactory level of skills, please work hard for one more chance in Suplly Exame. Best of luck!!\")\n"
   ]
  },
  {
   "cell_type": "code",
   "execution_count": null,
   "metadata": {},
   "outputs": [],
   "source": []
  },
  {
   "cell_type": "code",
   "execution_count": null,
   "metadata": {},
   "outputs": [],
   "source": []
  }
 ],
 "metadata": {
  "kernelspec": {
   "display_name": "Python 3",
   "language": "python",
   "name": "python3"
  },
  "language_info": {
   "codemirror_mode": {
    "name": "ipython",
    "version": 3
   },
   "file_extension": ".py",
   "mimetype": "text/x-python",
   "name": "python",
   "nbconvert_exporter": "python",
   "pygments_lexer": "ipython3",
   "version": "3.7.4"
  }
 },
 "nbformat": 4,
 "nbformat_minor": 2
}
