{
 "cells": [
  {
   "cell_type": "code",
   "execution_count": 2,
   "metadata": {},
   "outputs": [
    {
     "name": "stdout",
     "output_type": "stream",
     "text": [
      "Enter first value: 2\n",
      "Eter second value: 2\n",
      "Enter operator: **\n",
      "4 answer\n"
     ]
    }
   ],
   "source": [
    "val1 = input(\"Enter first value: \")\n",
    "val2 = input(\"Eter second value: \")\n",
    "operator = input(\"Enter operator: \")\n",
    "val1 = int(val1)\n",
    "val2 = int(val2)\n",
    "\n",
    "if operator == \"+\":\n",
    "    val = val1 + val2\n",
    "    print(val,\"answer\")\n",
    "elif operator == \"-\" :\n",
    "    val = val1 - val2\n",
    "    print(val, \"answer\")\n",
    "elif operator == \"*\":\n",
    "    val = val1 * val2\n",
    "    print(val, \"answer\")\n",
    "elif operator == \"/\":\n",
    "    val = val1 / val2\n",
    "    print(val, \"answer\")\n",
    "elif operator == \"**\":\n",
    "    val = val1 ** val2\n",
    "    print(val, \"answer\")\n",
    "    "
   ]
  },
  {
   "cell_type": "code",
   "execution_count": 3,
   "metadata": {},
   "outputs": [
    {
     "name": "stdout",
     "output_type": "stream",
     "text": [
      "The original list : ['Rs. 24', 'Rs. 18', 'Rs. 8', 'Rs. 21']\n",
      "The list after Extracting numbers : [24, 18, 8, 21]\n"
     ]
    }
   ],
   "source": [
    "test_list = ['Rs. 24', 'Rs. 18', 'Rs. 8', 'Rs. 21'] \n",
    "print(\"The original list : \" + str(test_list)) \n",
    "res = [int(sub.split('.')[1]) for sub in test_list] \n",
    "print(\"The list after Extracting numbers : \" + str(res)) "
   ]
  },
  {
   "cell_type": "code",
   "execution_count": 4,
   "metadata": {},
   "outputs": [
    {
     "name": "stdout",
     "output_type": "stream",
     "text": [
      "{'first name': 'Muhammad Noman', 'last name': 'Awan', 'address': '401 st.'}\n",
      "{'first name': 'Muhammad Noman', 'last name': 'Awan', 'address': '401 st.', 'Citi': 'Attock'}\n"
     ]
    }
   ],
   "source": [
    "customer = {\"first name\": \"Muhammad Noman\", \"last name\": \"Awan\", \"address\": \"401 st.\"}\n",
    "print(customer)\n",
    "customer [\"Citi\"] = \"Attock\"\n",
    "print(customer)"
   ]
  },
  {
   "cell_type": "code",
   "execution_count": 5,
   "metadata": {},
   "outputs": [
    {
     "data": {
      "text/plain": [
       "62"
      ]
     },
     "execution_count": 5,
     "metadata": {},
     "output_type": "execute_result"
    }
   ],
   "source": [
    "d = {'key1': 1,'key2': 14,'key3': 47}\n",
    "sum(d.values())"
   ]
  },
  {
   "cell_type": "code",
   "execution_count": 7,
   "metadata": {},
   "outputs": [
    {
     "name": "stdout",
     "output_type": "stream",
     "text": [
      "5\n",
      "2\n"
     ]
    }
   ],
   "source": [
    "list_a=[1,2,3,5,6,7,5,2]\n",
    "\n",
    "tmp=[]\n",
    "\n",
    "for i in list_a:\n",
    "    if tmp.__contains__(i):\n",
    "        print(i)\n",
    "    else:\n",
    "        tmp.append(i)"
   ]
  },
  {
   "cell_type": "code",
   "execution_count": 8,
   "metadata": {},
   "outputs": [
    {
     "name": "stdout",
     "output_type": "stream",
     "text": [
      "Dogs found!\n"
     ]
    }
   ],
   "source": [
    "pets = {'cats': 1, 'dogs': 2, 'fish': 3}\n",
    "if 'dogs' in pets:\n",
    "    print('Dogs found!')"
   ]
  },
  {
   "cell_type": "code",
   "execution_count": null,
   "metadata": {},
   "outputs": [],
   "source": []
  }
 ],
 "metadata": {
  "kernelspec": {
   "display_name": "Python 3",
   "language": "python",
   "name": "python3"
  },
  "language_info": {
   "codemirror_mode": {
    "name": "ipython",
    "version": 3
   },
   "file_extension": ".py",
   "mimetype": "text/x-python",
   "name": "python",
   "nbconvert_exporter": "python",
   "pygments_lexer": "ipython3",
   "version": "3.7.4"
  }
 },
 "nbformat": 4,
 "nbformat_minor": 2
}
