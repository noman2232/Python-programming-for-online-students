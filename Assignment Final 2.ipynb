{
 "cells": [
  {
   "cell_type": "code",
   "execution_count": 1,
   "metadata": {},
   "outputs": [
    {
     "name": "stdout",
     "output_type": "stream",
     "text": [
      "-------Transcrip---------\n",
      "Enter your Math marks out of 100? 45\n",
      "Enter your Urdu marks out of 100? 62\n",
      "Enter your English marks out of 100? 45\n",
      "Enter your Physics marks out of 100? 32\n",
      "Enter your Chemistry marks out of 100? 70\n",
      "Enter your Islamiat marks out of 100? 90\n",
      "Total marks obtained 344\n",
      "Percentage 57.333333333333336\n",
      "Congratulation! You have secured Grade C\n"
     ]
    }
   ],
   "source": [
    "print (\"-------Transcrip---------\");\n",
    "Math = int(input(\"Enter your Math marks out of 100? \")) \n",
    "\n",
    "Urdu = int(input(\"Enter your Urdu marks out of 100? \")) \n",
    "\n",
    "English = int(input(\"Enter your English marks out of 100? \")) \n",
    "\n",
    "Physics = int(input(\"Enter your Physics marks out of 100? \"))\n",
    "Chemistry = int(input(\"Enter your Chemistry marks out of 100? \"))\n",
    "Islamiat = int(input(\"Enter your Islamiat marks out of 100? \"))\n",
    "Total_Marks = Math+Urdu+English+Physics+Chemistry+Islamiat;\n",
    "Percentage = (Total_Marks/600*100)\n",
    "print (\"Total marks obtained \" + str(Total_Marks))\n",
    "print (\"Percentage \" + str(Percentage))\n",
    "if Percentage >= 80 and Percentage <= 100 :\n",
    "    print (\"Congratulation! You have secured Grade A One\")\n",
    "elif Percentage >= 70 and Percentage < 80 :\n",
    "    print (\"Congratulation! You have secured Grade A\")\n",
    "elif Percentage >= 60 and Percentage < 70 :\n",
    "    print (\"Congratulation! You have secured Grade B\")\n",
    "elif Percentage >= 50 and Percentage < 60 :\n",
    "    print (\"Congratulation! You have secured Grade C\")\n",
    "elif Percentage >= 40 and Percentage < 50 :\n",
    "    print (\"Your rsult is below from satisfactory level of skills, please work hard for one more chance in Suplly Exame. Best of luck!!\")\n"
   ]
  },
  {
   "cell_type": "code",
   "execution_count": 2,
   "metadata": {},
   "outputs": [
    {
     "name": "stdout",
     "output_type": "stream",
     "text": [
      "Enter any no? 61\n",
      "The input no is Odd: 61\n"
     ]
    }
   ],
   "source": [
    "b = 0\n",
    "a =int(input(\"Enter any no? \"))\n",
    "b = a % 2\n",
    "if (b == 0):\n",
    "    print (\"The input no is Even: \" + str(a))\n",
    "else :\n",
    "    print (\"The input no is Odd: \" + str(a))"
   ]
  },
  {
   "cell_type": "code",
   "execution_count": 3,
   "metadata": {},
   "outputs": [
    {
     "name": "stdout",
     "output_type": "stream",
     "text": [
      "6\n"
     ]
    }
   ],
   "source": [
    "cities = [100, 500, \"Paris\", \"Columbo\", \"Dubai\", \"Madina\"]\n",
    "print (len(cities))"
   ]
  },
  {
   "cell_type": "code",
   "execution_count": 4,
   "metadata": {},
   "outputs": [
    {
     "name": "stdout",
     "output_type": "stream",
     "text": [
      "770\n"
     ]
    }
   ],
   "source": [
    "raw_no = [45, 62, 63, 100, 500]\n",
    "print (sum(raw_no))"
   ]
  },
  {
   "cell_type": "code",
   "execution_count": 5,
   "metadata": {},
   "outputs": [
    {
     "name": "stdout",
     "output_type": "stream",
     "text": [
      "500\n"
     ]
    }
   ],
   "source": [
    "raw_no = [45, 62, 63, 100, 500]\n",
    "print (max(raw_no))"
   ]
  },
  {
   "cell_type": "code",
   "execution_count": 6,
   "metadata": {},
   "outputs": [
    {
     "name": "stdout",
     "output_type": "stream",
     "text": [
      "[1, 1, 2, 3]\n"
     ]
    }
   ],
   "source": [
    "raw_no = [1, 1, 2, 3, 5, 8, 13, 21, 34, 55, 62, 63, 100, 500]\n",
    "less_than_five = raw_no[:4]\n",
    "print(less_than_five)"
   ]
  },
  {
   "cell_type": "code",
   "execution_count": null,
   "metadata": {},
   "outputs": [],
   "source": []
  }
 ],
 "metadata": {
  "kernelspec": {
   "display_name": "Python 3",
   "language": "python",
   "name": "python3"
  },
  "language_info": {
   "codemirror_mode": {
    "name": "ipython",
    "version": 3
   },
   "file_extension": ".py",
   "mimetype": "text/x-python",
   "name": "python",
   "nbconvert_exporter": "python",
   "pygments_lexer": "ipython3",
   "version": "3.7.4"
  }
 },
 "nbformat": 4,
 "nbformat_minor": 2
}
