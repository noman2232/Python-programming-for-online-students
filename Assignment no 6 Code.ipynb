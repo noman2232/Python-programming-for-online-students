{
 "cells": [
  {
   "cell_type": "code",
   "execution_count": 2,
   "metadata": {},
   "outputs": [
    {
     "name": "stdout",
     "output_type": "stream",
     "text": [
      "BMW\n",
      "2019\n",
      "Green\n",
      "CNG\n",
      "Six doors\n"
     ]
    }
   ],
   "source": [
    "class Car():\n",
    "    def __init__(self,name,model,color,fuelType,door):\n",
    "        self.name = name\n",
    "        self.model= model\n",
    "        self.color= color\n",
    "        self.fuelType = fuelType\n",
    "        self.door =door\n",
    "    \n",
    "    def longDrive(self):\n",
    "        Print(\"Traveling capcity upto 500 km without any service\")\n",
    "    \n",
    "    def mountainRider(self):\n",
    "        print(\"Mountain rider without slipping\")\n",
    "        \n",
    "    def waterProof():\n",
    "        print(\"While raining safe by water\")\n",
    "info=Car(\"BMW\",2019,\"Green\",\"CNG\",\"Six doors\")\n",
    "\n",
    "print(info.name)\n",
    "print(info.model)\n",
    "print(info.color)\n",
    "print(info.fuelType)\n",
    "print(info.door)"
   ]
  },
  {
   "cell_type": "code",
   "execution_count": null,
   "metadata": {},
   "outputs": [],
   "source": []
  }
 ],
 "metadata": {
  "kernelspec": {
   "display_name": "Python 3",
   "language": "python",
   "name": "python3"
  },
  "language_info": {
   "codemirror_mode": {
    "name": "ipython",
    "version": 3
   },
   "file_extension": ".py",
   "mimetype": "text/x-python",
   "name": "python",
   "nbconvert_exporter": "python",
   "pygments_lexer": "ipython3",
   "version": "3.7.4"
  }
 },
 "nbformat": 4,
 "nbformat_minor": 2
}
