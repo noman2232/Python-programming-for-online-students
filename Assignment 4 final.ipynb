{
 "cells": [
  {
   "cell_type": "code",
   "execution_count": 1,
   "metadata": {},
   "outputs": [
    {
     "name": "stdout",
     "output_type": "stream",
     "text": [
      "\t\t\t*******Required 1 of  Q1: printing of each element of the dictionery******** \n",
      "first_name Muhammad Noman \n",
      "\n",
      "last name Awan \n",
      "\n",
      "age 35 \n",
      "\n",
      "citi Karachi \n",
      "\n",
      "\t\t\t********Required 2 of Q1:Addition of a Qualification key pair*******\n",
      "first_name Muhammad Noman \n",
      "\n",
      "last name Awan \n",
      "\n",
      "age 35 \n",
      "\n",
      "citi Karachi \n",
      "\n",
      "qulification MBA \n",
      "\n",
      "\t\t\t********Required 3 of Q1:Updation of the Qualification value to high level*******\n",
      "dict_items([('first_name', 'Muhammad Noman'), ('last name', 'Awan'), ('age', 35), ('citi', 'Karachi'), ('qulification', 'MBA'), ('qualification', 'Matric')])\n",
      "dict_items([('first_name', 'Muhammad Noman'), ('last name', 'Awan'), ('age', 35), ('citi', 'Karachi'), ('qulification', 'MBA'), ('qualification', 'Intermediat')])\n",
      "dict_items([('first_name', 'Muhammad Noman'), ('last name', 'Awan'), ('age', 35), ('citi', 'Karachi'), ('qulification', 'MBA'), ('qualification', 'B-COM')])\n",
      "dict_items([('first_name', 'Muhammad Noman'), ('last name', 'Awan'), ('age', 35), ('citi', 'Karachi'), ('qulification', 'MBA'), ('qualification', 'MBA')])\n",
      "\t\t\t********Required 4 of Q1:Deletion of the Qualification value to high level*******\n",
      "qulification False\n"
     ]
    }
   ],
   "source": [
    "p_info = {\"first_name\" : 'Muhammad Noman', 'last name': \"Awan\", \"age\": 35, \"citi\": 'Karachi'}\n",
    "print('\\t\\t\\t*******Required 1 of  Q1: printing of each element of the dictionery******** ')\n",
    "for key, value in p_info.items():\n",
    "    print(key, value, \"\\n\")\n",
    "    \n",
    "print(\"\\t\\t\\t********Required 2 of Q1:Addition of a Qualification key pair*******\")\n",
    "p_info[\"qulification\"] = \"MBA\" \n",
    "for key, value in p_info.items():\n",
    "    print(key, value, \"\\n\")\n",
    "Q_Level = [\"Matric\", \"Intermediat\", \"B-COM\", \"MBA\"]\n",
    "print(\"\\t\\t\\t********Required 3 of Q1:Updation of the Qualification value to high level*******\")\n",
    "p_info[\"qulification\"] = \"MBA\" \n",
    "for ch in Q_Level:\n",
    "    p_info[\"qualification\"] = ch\n",
    "    print(p_info.items())\n",
    "        \n",
    "print(\"\\t\\t\\t********Required 4 of Q1:Deletion of the Qualification value to high level*******\")\n",
    "\n",
    "del p_info[\"qualification\"]\n",
    "print(key, value in p_info)\n",
    "    "
   ]
  },
  {
   "cell_type": "code",
   "execution_count": 2,
   "metadata": {},
   "outputs": [
    {
     "name": "stdout",
     "output_type": "stream",
     "text": [
      "dict_items([('Karachi', {'Country': 'Pakistan', 'Population': '3 Million', 'Famous reason': 'Skillfull people'}), ('Dubai', {'Country': 'UAE', 'Population': '1 Million', 'Famous reason': 'High rise buildings'}), ('Paris', {'Country': 'France', 'Population': '2 Million', 'Famous reason': 'Advance Technology'})])\n",
      "\n",
      " Karachi :\n",
      "\t Country : Pakistan\n",
      "\t Population : 3 Million\n",
      "\t Famous reason : Skillfull people\n",
      "\n",
      " Dubai :\n",
      "\t Country : UAE\n",
      "\t Population : 1 Million\n",
      "\t Famous reason : High rise buildings\n",
      "\n",
      " Paris :\n",
      "\t Country : France\n",
      "\t Population : 2 Million\n",
      "\t Famous reason : Advance Technology\n"
     ]
    }
   ],
   "source": [
    "cities = {\"Karachi\":\n",
    "         {\"Country\": \"Pakistan\", \"Population\": '3 Million', \"Famous reason\": \"Skillfull people\"},\n",
    "          \"Dubai\":\n",
    "          {\"Country\": \"UAE\", \"Population\": '1 Million', \"Famous reason\": \"High rise buildings\"},\n",
    "          \"Paris\":\n",
    "          {\"Country\": \"France\", \"Population\": '2 Million', \"Famous reason\": \"Advance Technology\"},\n",
    "           }\n",
    "key = str()\n",
    "value = str()\n",
    "print(cities.items())\n",
    "for key1 in cities:\n",
    "    print('\\n',key1,':')\n",
    "    for key2, value in cities[key1].items():\n",
    "        print('\\t',key2,':', value)"
   ]
  },
  {
   "cell_type": "code",
   "execution_count": 19,
   "metadata": {},
   "outputs": [
    {
     "name": "stdout",
     "output_type": "stream",
     "text": [
      "Enter age:3\n",
      "Customer age is between 3 and 12  ticket charges is:  free\n"
     ]
    }
   ],
   "source": [
    "age = int(input(\"Enter age:\"))\n",
    "charges = {1: \"free\", 2: 10, 3: 15}\n",
    "for key, value in charges.items():\n",
    "    if age < 3:\n",
    "        print(\"Customer is under age of 3\",\"ticket charges is: \", value)\n",
    "        break\n",
    "    if (age >= 3 and age <= 12):\n",
    "        \n",
    "        print(\"Customer age is between 3 and 12 \",\"ticket charges is: \", value)\n",
    "        break\n",
    "    if age > 12:\n",
    "        print(\"Customer age is over 12 \",\"ticket charges is: \", value)\n",
    "        break"
   ]
  },
  {
   "cell_type": "code",
   "execution_count": 20,
   "metadata": {},
   "outputs": [
    {
     "name": "stdout",
     "output_type": "stream",
     "text": [
      "Enter book title? rny\n",
      "One of my favorite books is Alice in Wonderland\n"
     ]
    }
   ],
   "source": [
    "def favorite_book(name) :\n",
    "    print(\"One of my favorite books is Alice in Wonderland\")\n",
    "title =input(\"Enter book title? \")\n",
    "favorite_book(title)"
   ]
  },
  {
   "cell_type": "code",
   "execution_count": 24,
   "metadata": {},
   "outputs": [
    {
     "name": "stdout",
     "output_type": "stream",
     "text": [
      "Hello! What is your name?\n",
      "noman\n",
      "Well, noman, I am thinking of a number between 1 and 30.\n",
      "Take a guess.\n",
      "12\n",
      "Good job, noman! You guessed my number in 1 guesses!\n"
     ]
    }
   ],
   "source": [
    " # This is a guess the number game.\n",
    "\n",
    "import random\n",
    "guessesTaken = 0\n",
    "print('Hello! What is your name?')\n",
    "myName = input()\n",
    "\n",
    "number = random.randint(1, 30)\n",
    "\n",
    "print('Well, ' + myName + ', I am thinking of a number between 1 and 30.')\n",
    "\n",
    "while guessesTaken < 3:\n",
    "        print('Take a guess.') # There are four spaces in front of print.\n",
    "\n",
    "        guess = input()\n",
    "\n",
    "        guess = int(guess)\n",
    "\n",
    "        guessesTaken = guessesTaken + 1\n",
    "\n",
    "        if guess < number:\n",
    "\n",
    "            print('Your guess is too low.') # There are eight spaces in front of print.\n",
    "\n",
    "        if guess > number:\n",
    "\n",
    "            print('Your guess is too high.')\n",
    "\n",
    "\n",
    "        if guess == number:\n",
    "\n",
    "            break\n",
    "\n",
    "\n",
    "if guess == number:\n",
    "\n",
    "        guessesTaken = str(guessesTaken)\n",
    "\n",
    "        print('Good job, ' + myName + '! You guessed my number in ' + guessesTaken + ' guesses!')\n",
    "if guess != number:\n",
    "\n",
    "        number = str(number)\n",
    "\n",
    "        print('Nope. The number I was thinking of was ' + number)\n"
   ]
  },
  {
   "cell_type": "code",
   "execution_count": null,
   "metadata": {},
   "outputs": [],
   "source": []
  }
 ],
 "metadata": {
  "kernelspec": {
   "display_name": "Python 3",
   "language": "python",
   "name": "python3"
  },
  "language_info": {
   "codemirror_mode": {
    "name": "ipython",
    "version": 3
   },
   "file_extension": ".py",
   "mimetype": "text/x-python",
   "name": "python",
   "nbconvert_exporter": "python",
   "pygments_lexer": "ipython3",
   "version": "3.7.4"
  }
 },
 "nbformat": 4,
 "nbformat_minor": 2
}
